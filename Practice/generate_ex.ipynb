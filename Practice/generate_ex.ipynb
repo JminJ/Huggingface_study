{
 "metadata": {
  "language_info": {
   "codemirror_mode": {
    "name": "ipython",
    "version": 3
   },
   "file_extension": ".py",
   "mimetype": "text/x-python",
   "name": "python",
   "nbconvert_exporter": "python",
   "pygments_lexer": "ipython3",
   "version": 3
  },
  "orig_nbformat": 2
 },
 "nbformat": 4,
 "nbformat_minor": 2,
 "cells": [
  {
   "cell_type": "code",
   "execution_count": null,
   "metadata": {},
   "outputs": [],
   "source": [
    "from transformers import AutoTokenizer, AutoMdoelForCausalLM,AutoModelForSeq2SeqLM"
   ]
  },
  {
   "cell_type": "code",
   "execution_count": null,
   "metadata": {},
   "outputs": [],
   "source": [
    "tokenizer = AutoTokenizer.from_pretrained('distilgpt2')\n",
    "model = AutoMdoelForCausalLM.from_pretrained('distilgpt2')\n",
    "# do greedy decoding without providing a prompt\n",
    "outputs = model.generate(max_length = 40)\n",
    "print('Generated:', tokenizer.decode(output[0], skip_special_tokens = True))"
   ]
  },
  {
   "cell_type": "code",
   "execution_count": null,
   "metadata": {},
   "outputs": [],
   "source": [
    "tokenizer = AutoTokenizer.from_pretrained('t5-base')\n",
    "model = AutoModelForSeq2SeqLM.from_pretrained('t5-base')\n",
    "document = (\n",
    "    'at least two people were killed in a suspected bomb attack on a pssenger bus '\n",
    "    'in the strife-torn southern philpines on monday , the military said.'\n",
    ")\n",
    "# encode input context\n",
    "input_ids = tokenizer(document, return_tensors='pt').input_ids\n",
    "# generate 3 independent sequences usin beam search decoding (5 beams)\n",
    "# with T5 encoder-decoder model conditioned on short news article.\n",
    "outputs = model.generate(input_ids = input_ids, num_beams = 5, num_return_sequences = 3)\n",
    "print('Generated:', tokeinzer.batch_decode(outputs, skip_special_tokens = True))"
   ]
  }
 ]
}